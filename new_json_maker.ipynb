{
 "cells": [
  {
   "cell_type": "markdown",
   "metadata": {},
   "source": [
    "## This script converts original labels into new labels which include comments"
   ]
  },
  {
   "cell_type": "code",
   "execution_count": null,
   "metadata": {},
   "outputs": [],
   "source": [
    "import os\n",
    "import glob\n",
    "import json"
   ]
  },
  {
   "cell_type": "code",
   "execution_count": null,
   "metadata": {},
   "outputs": [],
   "source": [
    "NAME = 'DrLiao'\n",
    "NEW_FOLDER = NAME + '_labels_new'"
   ]
  },
  {
   "cell_type": "code",
   "execution_count": null,
   "metadata": {},
   "outputs": [],
   "source": [
    "def listToString(li):  \n",
    "    str1 = '/'\n",
    "    return (str1.join(li)+'/'+NEW_FOLDER)"
   ]
  },
  {
   "cell_type": "code",
   "execution_count": null,
   "metadata": {},
   "outputs": [],
   "source": [
    "json_list = glob.glob(os.path.join(os.getcwd(), NAME, NAME+'_labels','*.json'))\n",
    "_path = json_list[0].split('/')[:-2]\n",
    "OUTPUT_FOLDER = listToString(_path)\n",
    "\n",
    "if not os.path.exists(OUTPUT_FOLDER):\n",
    "    os.mkdir(OUTPUT_FOLDER)"
   ]
  },
  {
   "cell_type": "code",
   "execution_count": null,
   "metadata": {},
   "outputs": [],
   "source": [
    "complete_list = []\n",
    "for i in range(len(json_list)):\n",
    "    with open(json_list[i], 'r') as f:\n",
    "        data = json.load(f)\n",
    "        [[imageID, values]] = data.items()\n",
    "        etiology_L = data[imageID]['etiology_l']\n",
    "        etiology_R = data[imageID]['etiology_r']\n",
    "        grades_L = data[imageID]['grades_l']\n",
    "        grades_R = data[imageID]['grades_r']\n",
    "        comment_L_Dict = {'comment_l':'None'}\n",
    "        comment_R_Dict = {'comment_r':'None'}\n",
    "        data[imageID].update(comment_L_Dict)\n",
    "        data[imageID].update(comment_R_Dict)\n",
    "        \n",
    "        outputFile = OUTPUT_FOLDER + '/' + imageID +  '.json'\n",
    "        with open(outputFile, 'w') as outfile:\n",
    "            json.dump(data, outfile, indent = 4)\n",
    "        \n",
    "        complete_list.append(imageID)\n",
    "        \n",
    "print('%d files have been converted.'%len(complete_list))"
   ]
  },
  {
   "cell_type": "code",
   "execution_count": null,
   "metadata": {},
   "outputs": [],
   "source": []
  }
 ],
 "metadata": {
  "kernelspec": {
   "display_name": "Python 3",
   "language": "python",
   "name": "python3"
  },
  "language_info": {
   "codemirror_mode": {
    "name": "ipython",
    "version": 3
   },
   "file_extension": ".py",
   "mimetype": "text/x-python",
   "name": "python",
   "nbconvert_exporter": "python",
   "pygments_lexer": "ipython3",
   "version": "3.6.10"
  }
 },
 "nbformat": 4,
 "nbformat_minor": 2
}
